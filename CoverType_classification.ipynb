{
  "cells": [
    {
      "cell_type": "markdown",
      "metadata": {
        "id": "view-in-github",
        "colab_type": "text"
      },
      "source": [
        "<a href=\"https://colab.research.google.com/github/JohnMichaelCourville/Forest-Cover-Type-Classification/blob/main/CoverType_classification.ipynb\" target=\"_parent\"><img src=\"https://colab.research.google.com/assets/colab-badge.svg\" alt=\"Open In Colab\"/></a>"
      ]
    },
    {
      "cell_type": "code",
      "source": [
        "import tensorflow as tf\n",
        "from tensorflow.keras.models import Sequential\n",
        "from tensorflow.keras.layers import  InputLayer\n",
        "from tensorflow.keras.layers import  Dense\n",
        "import pandas as pd\n",
        "import numpy as np\n",
        "import sklearn\n",
        "from sklearn.model_selection import train_test_split\n",
        "from sklearn.metrics import classification_report\n",
        "from sklearn.preprocessing import StandardScaler\n",
        "from sklearn.model_selection import StratifiedKFold, KFold\n",
        "from sklearn.ensemble import RandomForestClassifier\n",
        "from sklearn.metrics import classification_report"
      ],
      "metadata": {
        "id": "kmO-G07zIIIe"
      },
      "execution_count": null,
      "outputs": []
    },
    {
      "cell_type": "code",
      "source": [
        "data = pd.read_csv('cover_data.csv')\n",
        "data.head()\n",
        "data['class'].value_counts()\n"
      ],
      "metadata": {
        "id": "Yi2B714hIVvS",
        "colab": {
          "base_uri": "https://localhost:8080/"
        },
        "outputId": "cd37e5e6-0201-42f1-f356-4ef2c140d616"
      },
      "execution_count": null,
      "outputs": [
        {
          "output_type": "execute_result",
          "data": {
            "text/plain": [
              "2    283301\n",
              "1    211840\n",
              "3     35754\n",
              "7     20510\n",
              "6     17367\n",
              "5      9493\n",
              "4      2747\n",
              "Name: class, dtype: int64"
            ]
          },
          "metadata": {},
          "execution_count": 4
        }
      ]
    },
    {
      "cell_type": "code",
      "source": [
        "\n",
        "#remove classification column from feature set\n",
        "X = data.loc[:,:'Soil_Type40']\n",
        "\n",
        "print(X.head())\n",
        "\n",
        "#create labels set of claissication column\n",
        "y = data.loc[:,'class']\n",
        "\n",
        "print(y.head())\n",
        "## Wanted to use K fold stratification and then averaged out my scores but,\n",
        "## I had trouble excecuting. I gathers that the simple stratification in the test \n",
        "## train split was sufficient since both the random forest and neural net performed so well. \n",
        "\n",
        "# skf = StratifiedKFold(n_splits=5)\n",
        "# skf.get_n_splits(X, y)\n",
        "# print(skf)\n",
        "# for train_index, test_index in skf.split(X, y):\n",
        "#     print(\"TRAIN:\", train_index, \"TEST:\", test_index)\n",
        "#     X_train, X_test = X[train_index], X[test_index]\n",
        "#     y_train, y_test = y[train_index], y[test_index]\n",
        "\n",
        "# split and statify(becasue of unbalanced classes)\n",
        "x_train, x_test, y_train, y_test = train_test_split(X, y, test_size = 0.30, stratify = y)\n",
        "\n",
        "\n"
      ],
      "metadata": {
        "id": "C9kRjzPUKO7Q",
        "colab": {
          "base_uri": "https://localhost:8080/"
        },
        "outputId": "e6b3db9f-8326-4874-8809-51ca1528dc12"
      },
      "execution_count": null,
      "outputs": [
        {
          "output_type": "stream",
          "name": "stdout",
          "text": [
            "   Elevation  Aspect  Slope  ...  Soil_Type38  Soil_Type39  Soil_Type40\n",
            "0       2596      51      3  ...            0            0            0\n",
            "1       2590      56      2  ...            0            0            0\n",
            "2       2804     139      9  ...            0            0            0\n",
            "3       2785     155     18  ...            0            0            0\n",
            "4       2595      45      2  ...            0            0            0\n",
            "\n",
            "[5 rows x 54 columns]\n",
            "0    5\n",
            "1    5\n",
            "2    2\n",
            "3    2\n",
            "4    5\n",
            "Name: class, dtype: int64\n"
          ]
        }
      ]
    },
    {
      "cell_type": "code",
      "source": [
        "\n",
        "#convert labels to one-hot endoded labels in order to use categoricalcrossentropy\n",
        "\n",
        "y_train = tf.keras.utils.to_categorical(y_train, dtype = 'int64')\n",
        "y_test = tf.keras.utils.to_categorical(y_test, dtype = 'int64')\n",
        "x_train.head()\n",
        "\n",
        "#Z score standardization\n",
        "ct = StandardScaler()\n",
        "\n",
        "x_train = ct.fit_transform(x_train)\n",
        "x_test = ct.transform(x_test)\n",
        "#print(x_train)\n",
        "\n",
        "model_forest = RandomForestClassifier()\n",
        "model_forest.fit(x_train, y_train)\n",
        "model_forest.score(x_test, y_test)\n"
      ],
      "metadata": {
        "colab": {
          "base_uri": "https://localhost:8080/"
        },
        "outputId": "d0b6dc89-ab39-47d4-ea1a-821abfd31857",
        "id": "iqMueJCNjMDK"
      },
      "execution_count": null,
      "outputs": [
        {
          "output_type": "execute_result",
          "data": {
            "text/plain": [
              "0.9457384798971911"
            ]
          },
          "metadata": {},
          "execution_count": 16
        }
      ]
    },
    {
      "cell_type": "code",
      "source": [
        "y_predict = model_forest.predict(x_test)\n",
        "\n",
        "print(classification_report(y_test, y_predict))"
      ],
      "metadata": {
        "colab": {
          "base_uri": "https://localhost:8080/"
        },
        "id": "B_2ytxZ7O5Ri",
        "outputId": "dd014580-1e24-4397-e4cc-185fd3ec172a"
      },
      "execution_count": null,
      "outputs": [
        {
          "output_type": "stream",
          "name": "stdout",
          "text": [
            "              precision    recall  f1-score   support\n",
            "\n",
            "           0       0.00      0.00      0.00         0\n",
            "           1       0.97      0.94      0.95     63552\n",
            "           2       0.95      0.97      0.96     84991\n",
            "           3       0.95      0.95      0.95     10726\n",
            "           4       0.94      0.81      0.87       824\n",
            "           5       0.95      0.70      0.81      2848\n",
            "           6       0.95      0.85      0.90      5210\n",
            "           7       0.97      0.94      0.96      6153\n",
            "\n",
            "   micro avg       0.96      0.95      0.95    174304\n",
            "   macro avg       0.84      0.77      0.80    174304\n",
            "weighted avg       0.96      0.95      0.95    174304\n",
            " samples avg       0.95      0.95      0.95    174304\n",
            "\n"
          ]
        },
        {
          "output_type": "stream",
          "name": "stderr",
          "text": [
            "/usr/local/lib/python3.7/dist-packages/sklearn/metrics/_classification.py:1308: UndefinedMetricWarning: Precision and F-score are ill-defined and being set to 0.0 in labels with no predicted samples. Use `zero_division` parameter to control this behavior.\n",
            "  _warn_prf(average, modifier, msg_start, len(result))\n",
            "/usr/local/lib/python3.7/dist-packages/sklearn/metrics/_classification.py:1308: UndefinedMetricWarning: Recall and F-score are ill-defined and being set to 0.0 in labels with no true samples. Use `zero_division` parameter to control this behavior.\n",
            "  _warn_prf(average, modifier, msg_start, len(result))\n",
            "/usr/local/lib/python3.7/dist-packages/sklearn/metrics/_classification.py:1308: UndefinedMetricWarning: Precision and F-score are ill-defined and being set to 0.0 in samples with no predicted labels. Use `zero_division` parameter to control this behavior.\n",
            "  _warn_prf(average, modifier, msg_start, len(result))\n"
          ]
        }
      ]
    },
    {
      "cell_type": "code",
      "source": [
        "model = Sequential()\n",
        "\n",
        "model.add(InputLayer(x_train.shape[1],))\n",
        "\n",
        "model.add(Dense(512, activation = 'relu'))\n",
        "model.add(Dense(128, activation = 'relu'))\n",
        "model.add(Dense(64, activation = 'relu'))\n",
        "model.add(Dense(16, activation = 'relu'))\n",
        "model.add(Dense(8, activation = 'relu'))\n",
        "model.add(Dense(8, activation = 'softmax'))\n",
        "\n",
        "model.summary()"
      ],
      "metadata": {
        "colab": {
          "base_uri": "https://localhost:8080/"
        },
        "id": "0UYxb45rMm1w",
        "outputId": "d7658ea4-3b19-4e80-c354-2339d9854652"
      },
      "execution_count": null,
      "outputs": [
        {
          "output_type": "stream",
          "name": "stdout",
          "text": [
            "Model: \"sequential\"\n",
            "_________________________________________________________________\n",
            " Layer (type)                Output Shape              Param #   \n",
            "=================================================================\n",
            " dense (Dense)               (None, 512)               28160     \n",
            "                                                                 \n",
            " dense_1 (Dense)             (None, 128)               65664     \n",
            "                                                                 \n",
            " dense_2 (Dense)             (None, 64)                8256      \n",
            "                                                                 \n",
            " dense_3 (Dense)             (None, 16)                1040      \n",
            "                                                                 \n",
            " dense_4 (Dense)             (None, 8)                 136       \n",
            "                                                                 \n",
            " dense_5 (Dense)             (None, 8)                 72        \n",
            "                                                                 \n",
            "=================================================================\n",
            "Total params: 103,328\n",
            "Trainable params: 103,328\n",
            "Non-trainable params: 0\n",
            "_________________________________________________________________\n"
          ]
        }
      ]
    },
    {
      "cell_type": "code",
      "source": [
        "EPOCHS = 15\n",
        "BATCH_SIZE = 128\n",
        "\n",
        "model.compile(loss = 'categorical_crossentropy', optimizer = 'adam', metrics = [\"accuracy\"])\n",
        "\n",
        "model.fit(x_train, y_train, epochs = EPOCHS, batch_size = BATCH_SIZE)"
      ],
      "metadata": {
        "colab": {
          "base_uri": "https://localhost:8080/"
        },
        "id": "XVAOpHmpOCO9",
        "outputId": "0c91178d-ee60-47d8-ebe5-7073abbf3147"
      },
      "execution_count": null,
      "outputs": [
        {
          "output_type": "stream",
          "name": "stdout",
          "text": [
            "Epoch 1/15\n",
            "3178/3178 [==============================] - 22s 7ms/step - loss: 0.5491 - accuracy: 0.7680\n",
            "Epoch 2/15\n",
            "3178/3178 [==============================] - 20s 6ms/step - loss: 0.3992 - accuracy: 0.8334\n",
            "Epoch 3/15\n",
            "3178/3178 [==============================] - 20s 6ms/step - loss: 0.3367 - accuracy: 0.8614\n",
            "Epoch 4/15\n",
            "3178/3178 [==============================] - 20s 6ms/step - loss: 0.2986 - accuracy: 0.8779\n",
            "Epoch 5/15\n",
            "3178/3178 [==============================] - 21s 7ms/step - loss: 0.2730 - accuracy: 0.8894\n",
            "Epoch 6/15\n",
            "3178/3178 [==============================] - 22s 7ms/step - loss: 0.2546 - accuracy: 0.8966\n",
            "Epoch 7/15\n",
            "3178/3178 [==============================] - 21s 7ms/step - loss: 0.2404 - accuracy: 0.9028\n",
            "Epoch 8/15\n",
            "3178/3178 [==============================] - 22s 7ms/step - loss: 0.2291 - accuracy: 0.9075\n",
            "Epoch 9/15\n",
            "3178/3178 [==============================] - 21s 7ms/step - loss: 0.2192 - accuracy: 0.9113\n",
            "Epoch 10/15\n",
            "3178/3178 [==============================] - 21s 7ms/step - loss: 0.2113 - accuracy: 0.9151\n",
            "Epoch 11/15\n",
            "3178/3178 [==============================] - 22s 7ms/step - loss: 0.2046 - accuracy: 0.9176\n",
            "Epoch 12/15\n",
            "3178/3178 [==============================] - 21s 7ms/step - loss: 0.1985 - accuracy: 0.9202\n",
            "Epoch 13/15\n",
            "3178/3178 [==============================] - 20s 6ms/step - loss: 0.1939 - accuracy: 0.9227\n",
            "Epoch 14/15\n",
            "3178/3178 [==============================] - 20s 6ms/step - loss: 0.1864 - accuracy: 0.9252\n",
            "Epoch 15/15\n",
            "3178/3178 [==============================] - 20s 6ms/step - loss: 0.1823 - accuracy: 0.9271\n"
          ]
        },
        {
          "output_type": "execute_result",
          "data": {
            "text/plain": [
              "<keras.callbacks.History at 0x7f055e53b710>"
            ]
          },
          "metadata": {},
          "execution_count": 9
        }
      ]
    },
    {
      "cell_type": "code",
      "source": [
        "y_estimate = model.predict(x_test)\n",
        "\n",
        "y_estimate = np.argmax(y_estimate, axis = 1)\n",
        "\n",
        "y_true = np.argmax(y_test, axis = 1)\n",
        "\n",
        "print(classification_report(y_true, y_estimate))"
      ],
      "metadata": {
        "colab": {
          "base_uri": "https://localhost:8080/"
        },
        "id": "bl7mW7c8ZILR",
        "outputId": "c03cf135-37f9-411e-f094-13c5c1893894"
      },
      "execution_count": null,
      "outputs": [
        {
          "output_type": "stream",
          "name": "stdout",
          "text": [
            "              precision    recall  f1-score   support\n",
            "\n",
            "           1       0.94      0.91      0.92     63552\n",
            "           2       0.93      0.95      0.94     84991\n",
            "           3       0.92      0.91      0.92     10726\n",
            "           4       0.84      0.79      0.81       824\n",
            "           5       0.83      0.72      0.77      2848\n",
            "           6       0.83      0.88      0.85      5210\n",
            "           7       0.94      0.92      0.93      6153\n",
            "\n",
            "    accuracy                           0.93    174304\n",
            "   macro avg       0.89      0.87      0.88    174304\n",
            "weighted avg       0.93      0.93      0.93    174304\n",
            "\n"
          ]
        }
      ]
    }
  ],
  "metadata": {
    "kernelspec": {
      "display_name": "Python 3.7 (tensorflow)",
      "language": "python",
      "name": "tensorflow"
    },
    "language_info": {
      "codemirror_mode": {
        "name": "ipython",
        "version": 3
      },
      "file_extension": ".py",
      "mimetype": "text/x-python",
      "name": "python",
      "nbconvert_exporter": "python",
      "pygments_lexer": "ipython3",
      "version": "3.7.6"
    },
    "colab": {
      "name": "CoverType-classification.ipynb",
      "provenance": [],
      "collapsed_sections": [],
      "include_colab_link": true
    }
  },
  "nbformat": 4,
  "nbformat_minor": 0
}